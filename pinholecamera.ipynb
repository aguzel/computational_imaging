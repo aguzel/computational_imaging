{
  "nbformat": 4,
  "nbformat_minor": 0,
  "metadata": {
    "colab": {
      "name": "pinholecamera.ipynb",
      "provenance": [],
      "collapsed_sections": [],
      "authorship_tag": "ABX9TyNDVDJ3k1b3vpiryZ3gQjq5",
      "include_colab_link": true
    },
    "kernelspec": {
      "name": "python3",
      "display_name": "Python 3"
    },
    "language_info": {
      "name": "python"
    }
  },
  "cells": [
    {
      "cell_type": "markdown",
      "metadata": {
        "id": "view-in-github",
        "colab_type": "text"
      },
      "source": [
        "<a href=\"https://colab.research.google.com/github/aguzel/computational_imaging/blob/main/pinholecamera.ipynb\" target=\"_parent\"><img src=\"https://colab.research.google.com/assets/colab-badge.svg\" alt=\"Open In Colab\"/></a>"
      ]
    },
    {
      "cell_type": "code",
      "execution_count": 10,
      "metadata": {
        "id": "8AOxXoyCNnDg"
      },
      "outputs": [],
      "source": [
        "import numpy as np\n",
        "import skimage.io as io\n",
        "import matplotlib.pyplot as plt\n",
        "from pathlib import Path\n",
        "from numpy.fft import fft2, ifft2, fftshift, ifftshift\n",
        "import math \n",
        "\n",
        "\n",
        "# Load images\n",
        "img1 = io.imread('/content/image1.png')\n",
        "img2 = io.imread('/content/image2.png')\n",
        "\n",
        "\n"
      ]
    },
    {
      "cell_type": "code",
      "source": [
        "print(np.shape(img1))"
      ],
      "metadata": {
        "colab": {
          "base_uri": "https://localhost:8080/"
        },
        "id": "qt3keTDNZNrC",
        "outputId": "b7e06ebd-51e8-4852-b8e5-4dd4d66cea5a"
      },
      "execution_count": 9,
      "outputs": [
        {
          "output_type": "stream",
          "name": "stdout",
          "text": [
            "(1001, 1001, 3)\n"
          ]
        }
      ]
    },
    {
      "cell_type": "markdown",
      "source": [
        "Given an image with a resolution of 1001 × 1001 pixels and printed with 300 dpi,what is the physical image size on the printout (in m, cm, or mm)? How many pixels of the printed image fall into 1ý (degree) of visual angle when the viewer is at a distance of 40 cm and when the viewer is at a distance of 2 m away from the printed image?\n",
        "\n",
        "dpi↔pixel/cm 1 pixel/cm = 2.54 dpi."
      ],
      "metadata": {
        "id": "FUOJ7-QUhIbC"
      }
    },
    {
      "cell_type": "code",
      "source": [
        "# Part (a)\n",
        "W = img1.shape[0]       # = 1001 dots\n",
        "d = np.array([0.4, 2])  # distances (m)\n",
        "dpi = 300               # dots per inch\n",
        "\n",
        "pixel_per_cm = dpi / 2.54\n",
        "\n",
        "image_size_cm = 1001 / pixel_per_cm\n",
        "print(image_size_cm)\n",
        "\n",
        "theta = 1 \n",
        "Lmbd = 2 * d[0] * math.tan(theta/2) * 10 #in cm\n",
        "print(Lmbd * pixel_per_cm)"
      ],
      "metadata": {
        "colab": {
          "base_uri": "https://localhost:8080/"
        },
        "id": "Iu5tw4h4PJAI",
        "outputId": "9ec18b57-5a91-44cd-c560-1a3196dd819b"
      },
      "execution_count": 29,
      "outputs": [
        {
          "output_type": "stream",
          "name": "stdout",
          "text": [
            "8.475133333333334\n",
            "516.1913289862588\n"
          ]
        }
      ]
    },
    {
      "cell_type": "markdown",
      "source": [
        "Assuming that the peak of the contrast sensitivity function (CSF) is at 5 cycles per visual degree (cpd), which image frequency does that correspond to for the viewing distances of 40 cm and 2 m for the image in part 1? What is the image frequency half way between the peak CSF image frequencies for viewing distance 1 (40 cm) and viewing distance 2 (2 m)?"
      ],
      "metadata": {
        "id": "vmuTc4aho1oF"
      }
    },
    {
      "cell_type": "code",
      "source": [
        "# Part (b)\n",
        "cpd = 5   # Peak contrast sensitivity location (cycles per degree)"
      ],
      "metadata": {
        "id": "TCmnEfC1hHHS"
      },
      "execution_count": null,
      "outputs": []
    },
    {
      "cell_type": "markdown",
      "source": [
        "Convert the frequency found in 2) to pixels in the image after \u001dt2 and report this frequency. Low-pass \u001blter image1.png with a hard cuto\u001d at this frequency and high-pass \u001blter image2.png with the same frequency cuto\u001d. Merge the two images and print the combined image (verify the physical image size after printing). Show the hybrid image in your solution and report on what you see when looking at the printed image from 40 cm and from 2 m."
      ],
      "metadata": {
        "id": "g9Smg0yFrOg6"
      }
    },
    {
      "cell_type": "code",
      "source": [
        "# Part (c)\n",
        "# Hint: fft2, ifft2, fftshift, and ifftshift functions all take an |axes|\n",
        "# argument to specify the axes for the 2D DFT. e.g. fft2(arr, axes=(1, 2))\n",
        "# Hint: Check out np.meshgrid."
      ],
      "metadata": {
        "id": "xsxNHZTsrMnS"
      },
      "execution_count": null,
      "outputs": []
    },
    {
      "cell_type": "code",
      "source": [
        "#### Change these to the correct values for the high- and low-pass filters\n",
        "hpf = np.zeros_like(img1)  # TODO: Replace\n",
        "lpf = np.zeros_like(img1)  # TODO: Replace\n",
        "\n",
        "#### Apply the filters to create the hybrid image\n",
        "hybrid_img = np.zeros_like(img1)  # TODO: Replace\n",
        "\n",
        "fig, axs = plt.subplots(nrows=2, ncols=2, figsize=(10, 10))\n",
        "axs[0,0].imshow(img2)\n",
        "axs[0,0].axis('off')\n",
        "axs[0,1].imshow(hpf, cmap='gray')\n",
        "axs[0,1].set_title(\"High-pass filter\")\n",
        "axs[1,0].imshow(img1)\n",
        "axs[1,0].axis('off')\n",
        "axs[1,1].imshow(lpf, cmap='gray')\n",
        "axs[1,1].set_title(\"Low-pass filter\")\n",
        "plt.savefig(\"hpf_lpf.png\", bbox_inches='tight')\n",
        "io.imsave(\"hybrid_image.png\", np.clip(hybrid_img, a_min=0, a_max=255.))"
      ],
      "metadata": {
        "id": "vQ6iIdVyrMKa"
      },
      "execution_count": null,
      "outputs": []
    }
  ]
}