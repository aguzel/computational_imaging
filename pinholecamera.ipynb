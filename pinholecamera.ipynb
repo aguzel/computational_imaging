{
  "nbformat": 4,
  "nbformat_minor": 0,
  "metadata": {
    "colab": {
      "name": "pinholecamera.ipynb",
      "provenance": [],
      "authorship_tag": "ABX9TyOgEST+0efgHIksgDLKYqOU",
      "include_colab_link": true
    },
    "kernelspec": {
      "name": "python3",
      "display_name": "Python 3"
    },
    "language_info": {
      "name": "python"
    }
  },
  "cells": [
    {
      "cell_type": "markdown",
      "metadata": {
        "id": "view-in-github",
        "colab_type": "text"
      },
      "source": [
        "<a href=\"https://colab.research.google.com/github/aguzel/computational_imaging/blob/main/pinholecamera.ipynb\" target=\"_parent\"><img src=\"https://colab.research.google.com/assets/colab-badge.svg\" alt=\"Open In Colab\"/></a>"
      ]
    },
    {
      "cell_type": "code",
      "execution_count": 2,
      "metadata": {
        "id": "8AOxXoyCNnDg"
      },
      "outputs": [],
      "source": [
        "import numpy as np\n",
        "import skimage.io as io\n",
        "import matplotlib.pyplot as plt\n",
        "from pathlib import Path\n",
        "from numpy.fft import fft2, ifft2, fftshift, ifftshift\n",
        "\n",
        "\n",
        "# Load images\n",
        "img1 = io.imread('/content/image1.png')\n",
        "img2 = io.imread('/content/image2.png')\n",
        "\n",
        "\n"
      ]
    },
    {
      "cell_type": "code",
      "source": [
        "print(np.shape(img1))"
      ],
      "metadata": {
        "colab": {
          "base_uri": "https://localhost:8080/"
        },
        "id": "qt3keTDNZNrC",
        "outputId": "b7e06ebd-51e8-4852-b8e5-4dd4d66cea5a"
      },
      "execution_count": 9,
      "outputs": [
        {
          "output_type": "stream",
          "name": "stdout",
          "text": [
            "(1001, 1001, 3)\n"
          ]
        }
      ]
    },
    {
      "cell_type": "code",
      "source": [
        "# Part (a)\n",
        "W = img1.shape[0]       # = 1001 dots\n",
        "d = np.array([0.4, 2])  # distances (m)\n",
        "dpi = 300               # dots per inch\n",
        "\n",
        "#### YOUR CODE HERE ####\n",
        "\n",
        "# Part (b)\n",
        "cpd = 5   # Peak contrast sensitivity location (cycles per degree)\n",
        "\n",
        "#### YOUR CODE HERE ####\n",
        "\n",
        "# Part (c)\n",
        "# Hint: fft2, ifft2, fftshift, and ifftshift functions all take an |axes|\n",
        "# argument to specify the axes for the 2D DFT. e.g. fft2(arr, axes=(1, 2))\n",
        "# Hint: Check out np.meshgrid.\n",
        "\n",
        "#### Change these to the correct values for the high- and low-pass filters\n",
        "hpf = np.zeros_like(img1)  # TODO: Replace\n",
        "lpf = np.zeros_like(img1)  # TODO: Replace\n",
        "\n",
        "#### Apply the filters to create the hybrid image\n",
        "hybrid_img = np.zeros_like(img1)  # TODO: Replace\n",
        "\n",
        "fig, axs = plt.subplots(nrows=2, ncols=2, figsize=(10, 10))\n",
        "axs[0,0].imshow(img2)\n",
        "axs[0,0].axis('off')\n",
        "axs[0,1].imshow(hpf, cmap='gray')\n",
        "axs[0,1].set_title(\"High-pass filter\")\n",
        "axs[1,0].imshow(img1)\n",
        "axs[1,0].axis('off')\n",
        "axs[1,1].imshow(lpf, cmap='gray')\n",
        "axs[1,1].set_title(\"Low-pass filter\")\n",
        "plt.savefig(\"hpf_lpf.png\", bbox_inches='tight')\n",
        "io.imsave(\"hybrid_image.png\", np.clip(hybrid_img, a_min=0, a_max=255.))"
      ],
      "metadata": {
        "id": "Iu5tw4h4PJAI"
      },
      "execution_count": null,
      "outputs": []
    }
  ]
}